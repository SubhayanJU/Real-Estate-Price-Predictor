{
 "cells": [
  {
   "cell_type": "code",
   "execution_count": 1,
   "id": "3906c891-a717-4870-a521-eb5d6c301fd5",
   "metadata": {},
   "outputs": [],
   "source": [
    "from joblib import dump, load\n",
    "import numpy as np\n",
    "model = load('SD_Estates.joblib')"
   ]
  },
  {
   "cell_type": "code",
   "execution_count": 14,
   "id": "8c450a85-0bfd-4818-8406-e6961d007c61",
   "metadata": {},
   "outputs": [],
   "source": [
    "features = np.random.randn(1,6)"
   ]
  },
  {
   "cell_type": "code",
   "execution_count": 15,
   "id": "8056ea64-aa48-4c44-9f6e-cd536f496f20",
   "metadata": {},
   "outputs": [
    {
     "data": {
      "text/plain": [
       "array([[ 0.95716184,  1.2869736 , -0.540202  ,  1.43552055, -0.58990488,\n",
       "        -0.5116593 ]])"
      ]
     },
     "execution_count": 15,
     "metadata": {},
     "output_type": "execute_result"
    }
   ],
   "source": [
    "features"
   ]
  },
  {
   "cell_type": "code",
   "execution_count": 4,
   "id": "4e2682af-7526-4543-af14-8a96a8f1fece",
   "metadata": {},
   "outputs": [
    {
     "data": {
      "text/plain": [
       "array([41.486])"
      ]
     },
     "execution_count": 4,
     "metadata": {},
     "output_type": "execute_result"
    }
   ],
   "source": [
    "model.predict(features)"
   ]
  },
  {
   "cell_type": "code",
   "execution_count": null,
   "id": "2598d09b-a27c-4079-8839-006dca227792",
   "metadata": {},
   "outputs": [],
   "source": []
  }
 ],
 "metadata": {
  "kernelspec": {
   "display_name": "Python 3 (ipykernel)",
   "language": "python",
   "name": "python3"
  },
  "language_info": {
   "codemirror_mode": {
    "name": "ipython",
    "version": 3
   },
   "file_extension": ".py",
   "mimetype": "text/x-python",
   "name": "python",
   "nbconvert_exporter": "python",
   "pygments_lexer": "ipython3",
   "version": "3.10.6"
  }
 },
 "nbformat": 4,
 "nbformat_minor": 5
}
